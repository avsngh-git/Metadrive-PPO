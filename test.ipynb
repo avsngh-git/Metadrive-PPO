{
 "cells": [
  {
   "cell_type": "code",
   "execution_count": 7,
   "id": "be4679b8",
   "metadata": {},
   "outputs": [
    {
     "data": {
      "text/plain": [
       "{'sementic_camera': [12, 300, 300]}"
      ]
     },
     "execution_count": 7,
     "metadata": {},
     "output_type": "execute_result"
    }
   ],
   "source": [
    "size= (300,300)\n",
    "{\"sementic_camera\": [12, *size]}"
   ]
  },
  {
   "cell_type": "code",
   "execution_count": 2,
   "id": "2e404d8b",
   "metadata": {},
   "outputs": [
    {
     "data": {
      "text/plain": [
       "{'num_lasers': 120, 'distance': 50}"
      ]
     },
     "execution_count": 2,
     "metadata": {},
     "output_type": "execute_result"
    }
   ],
   "source": [
    "lidar"
   ]
  },
  {
   "cell_type": "code",
   "execution_count": 4,
   "id": "f3913bf9",
   "metadata": {},
   "outputs": [],
   "source": [
    "x= {\"sensors\": dict(\n",
    "  depth_camera=(1, 2, 3), rgb_camera=(4,5,6),\n",
    "  seg_camera=(7,8,9)\n",
    "        )}"
   ]
  },
  {
   "cell_type": "code",
   "execution_count": 5,
   "id": "a4505adf",
   "metadata": {},
   "outputs": [
    {
     "data": {
      "text/plain": [
       "{'sensors': {'depth_camera': (1, 2, 3),\n",
       "  'rgb_camera': (4, 5, 6),\n",
       "  'seg_camera': (7, 8, 9)}}"
      ]
     },
     "execution_count": 5,
     "metadata": {},
     "output_type": "execute_result"
    }
   ],
   "source": [
    "x"
   ]
  },
  {
   "cell_type": "code",
   "execution_count": 16,
   "id": "b16bea0d",
   "metadata": {},
   "outputs": [
    {
     "data": {
      "text/plain": [
       "4"
      ]
     },
     "execution_count": 16,
     "metadata": {},
     "output_type": "execute_result"
    }
   ],
   "source": [
    "x['sensors']['rgb_camera'][0]"
   ]
  },
  {
   "cell_type": "code",
   "execution_count": 9,
   "id": "1d4e5cbe",
   "metadata": {},
   "outputs": [],
   "source": [
    "import yaml\n",
    "import copy\n",
    "with open(\"configs/ppo_config.yaml\", \"r\") as f:\n",
    "        config = yaml.safe_load(f)\n",
    "env_config = copy.deepcopy(config['environment'])"
   ]
  },
  {
   "cell_type": "code",
   "execution_count": 10,
   "id": "5823783a",
   "metadata": {},
   "outputs": [
    {
     "data": {
      "text/plain": [
       "{'num_scenarios': 200,\n",
       " 'start_seed': 1000,\n",
       " 'use_render': False,\n",
       " 'image_observation': True,\n",
       " 'stack_size': 4,\n",
       " 'decision_repeat': 4,\n",
       " 'sensors': {'main_camera': ['RGBCamera', 300, 300]}}"
      ]
     },
     "execution_count": 10,
     "metadata": {},
     "output_type": "execute_result"
    }
   ],
   "source": [
    "env_config"
   ]
  },
  {
   "cell_type": "code",
   "execution_count": null,
   "id": "766258bf",
   "metadata": {},
   "outputs": [],
   "source": []
  }
 ],
 "metadata": {
  "kernelspec": {
   "display_name": "metadrive",
   "language": "python",
   "name": "python3"
  },
  "language_info": {
   "codemirror_mode": {
    "name": "ipython",
    "version": 3
   },
   "file_extension": ".py",
   "mimetype": "text/x-python",
   "name": "python",
   "nbconvert_exporter": "python",
   "pygments_lexer": "ipython3",
   "version": "3.11.13"
  }
 },
 "nbformat": 4,
 "nbformat_minor": 5
}
